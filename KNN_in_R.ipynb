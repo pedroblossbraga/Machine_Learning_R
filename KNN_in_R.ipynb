{
  "nbformat": 4,
  "nbformat_minor": 0,
  "metadata": {
    "colab": {
      "name": "KNN_in_R.ipynb",
      "provenance": []
    },
    "kernelspec": {
      "name": "python3",
      "display_name": "Python 3"
    }
  },
  "cells": [
    {
      "cell_type": "markdown",
      "metadata": {
        "id": "0PYH_fXv_7rN",
        "colab_type": "text"
      },
      "source": [
        "# **KNN classification in the iris datase**,\n",
        "## with R"
      ]
    },
    {
      "cell_type": "code",
      "metadata": {
        "id": "SD-gDFpt_5DO",
        "colab_type": "code",
        "colab": {}
      },
      "source": [
        "# activate R syntax\n",
        "%load_ext rpy2.ipython\n"
      ],
      "execution_count": 0,
      "outputs": []
    },
    {
      "cell_type": "code",
      "metadata": {
        "id": "2QjFNhkPAOsK",
        "colab_type": "code",
        "colab": {
          "base_uri": "https://localhost:8080/",
          "height": 489
        },
        "outputId": "84b358c1-07fc-4c61-9811-7beb5e74f81f"
      },
      "source": [
        "%%R\n",
        "install.packages(\"class\",dependencies=T)\n",
        "library(class)"
      ],
      "execution_count": 2,
      "outputs": [
        {
          "output_type": "stream",
          "text": [
            "/usr/local/lib/python3.6/dist-packages/rpy2/rinterface/__init__.py:146: RRuntimeWarning: Installing package into ‘/usr/local/lib/R/site-library’\n",
            "(as ‘lib’ is unspecified)\n",
            "\n",
            "  warnings.warn(x, RRuntimeWarning)\n",
            "/usr/local/lib/python3.6/dist-packages/rpy2/rinterface/__init__.py:146: RRuntimeWarning: trying URL 'https://cran.rstudio.com/src/contrib/class_7.3-15.tar.gz'\n",
            "\n",
            "  warnings.warn(x, RRuntimeWarning)\n",
            "/usr/local/lib/python3.6/dist-packages/rpy2/rinterface/__init__.py:146: RRuntimeWarning: Content type 'application/x-gzip'\n",
            "  warnings.warn(x, RRuntimeWarning)\n",
            "/usr/local/lib/python3.6/dist-packages/rpy2/rinterface/__init__.py:146: RRuntimeWarning:  length 19757 bytes (19 KB)\n",
            "\n",
            "  warnings.warn(x, RRuntimeWarning)\n",
            "/usr/local/lib/python3.6/dist-packages/rpy2/rinterface/__init__.py:146: RRuntimeWarning: =\n",
            "  warnings.warn(x, RRuntimeWarning)\n",
            "/usr/local/lib/python3.6/dist-packages/rpy2/rinterface/__init__.py:146: RRuntimeWarning: \n",
            "\n",
            "  warnings.warn(x, RRuntimeWarning)\n",
            "/usr/local/lib/python3.6/dist-packages/rpy2/rinterface/__init__.py:146: RRuntimeWarning: downloaded 19 KB\n",
            "\n",
            "\n",
            "  warnings.warn(x, RRuntimeWarning)\n",
            "/usr/local/lib/python3.6/dist-packages/rpy2/rinterface/__init__.py:146: RRuntimeWarning: \n",
            "  warnings.warn(x, RRuntimeWarning)\n",
            "/usr/local/lib/python3.6/dist-packages/rpy2/rinterface/__init__.py:146: RRuntimeWarning: The downloaded source packages are in\n",
            "\t‘/tmp/Rtmpgd1ZRH/downloaded_packages’\n",
            "  warnings.warn(x, RRuntimeWarning)\n"
          ],
          "name": "stderr"
        }
      ]
    },
    {
      "cell_type": "code",
      "metadata": {
        "id": "04Rghw_oAWG3",
        "colab_type": "code",
        "colab": {
          "base_uri": "https://localhost:8080/",
          "height": 139
        },
        "outputId": "07686375-238d-459b-a54e-07506d4cbc36"
      },
      "source": [
        "%%R\n",
        "head(iris)"
      ],
      "execution_count": 4,
      "outputs": [
        {
          "output_type": "display_data",
          "data": {
            "text/plain": [
              "  Sepal.Length Sepal.Width Petal.Length Petal.Width Species\n",
              "1          5.1         3.5          1.4         0.2  setosa\n",
              "2          4.9         3.0          1.4         0.2  setosa\n",
              "3          4.7         3.2          1.3         0.2  setosa\n",
              "4          4.6         3.1          1.5         0.2  setosa\n",
              "5          5.0         3.6          1.4         0.2  setosa\n",
              "6          5.4         3.9          1.7         0.4  setosa\n"
            ]
          },
          "metadata": {
            "tags": []
          }
        }
      ]
    },
    {
      "cell_type": "code",
      "metadata": {
        "id": "7iu_RCrXAdNx",
        "colab_type": "code",
        "colab": {
          "base_uri": "https://localhost:8080/",
          "height": 260
        },
        "outputId": "a4c34d54-dde8-4d7f-e911-482d81e125a6"
      },
      "source": [
        "%%R\n",
        "summary(iris)"
      ],
      "execution_count": 5,
      "outputs": [
        {
          "output_type": "display_data",
          "data": {
            "text/plain": [
              "  Sepal.Length    Sepal.Width     Petal.Length    Petal.Width   \n",
              " Min.   :4.300   Min.   :2.000   Min.   :1.000   Min.   :0.100  \n",
              " 1st Qu.:5.100   1st Qu.:2.800   1st Qu.:1.600   1st Qu.:0.300  \n",
              " Median :5.800   Median :3.000   Median :4.350   Median :1.300  \n",
              " Mean   :5.843   Mean   :3.057   Mean   :3.758   Mean   :1.199  \n",
              " 3rd Qu.:6.400   3rd Qu.:3.300   3rd Qu.:5.100   3rd Qu.:1.800  \n",
              " Max.   :7.900   Max.   :4.400   Max.   :6.900   Max.   :2.500  \n",
              "       Species  \n",
              " setosa    :50  \n",
              " versicolor:50  \n",
              " virginica :50  \n",
              "                \n",
              "                \n",
              "                \n"
            ]
          },
          "metadata": {
            "tags": []
          }
        }
      ]
    },
    {
      "cell_type": "markdown",
      "metadata": {
        "id": "9UjGPOzCAkld",
        "colab_type": "text"
      },
      "source": [
        "The algorithm will search for the closest sample, the K-nearest neighbors.\n"
      ]
    },
    {
      "cell_type": "code",
      "metadata": {
        "id": "BfIZxBX_Af-0",
        "colab_type": "code",
        "colab": {}
      },
      "source": [
        "%%R\n",
        "data_sample = sample(2,150,replace=T, prob=c(0.7,0.3))"
      ],
      "execution_count": 0,
      "outputs": []
    },
    {
      "cell_type": "code",
      "metadata": {
        "id": "VoM8HCKcA1NZ",
        "colab_type": "code",
        "colab": {}
      },
      "source": [
        "%%R\n",
        "iris_train = iris[data_sample==1,]\n",
        "classificate = iris[data_sample==2,]"
      ],
      "execution_count": 0,
      "outputs": []
    },
    {
      "cell_type": "code",
      "metadata": {
        "id": "7xb4xWuRBFf9",
        "colab_type": "code",
        "colab": {
          "base_uri": "https://localhost:8080/",
          "height": 34
        },
        "outputId": "ef682ab6-f6dd-4fcf-9b2f-dff94e74ffd0"
      },
      "source": [
        "%%R\n",
        "dim(iris_train)"
      ],
      "execution_count": 9,
      "outputs": [
        {
          "output_type": "display_data",
          "data": {
            "text/plain": [
              "[1] 114   5\n"
            ]
          },
          "metadata": {
            "tags": []
          }
        }
      ]
    },
    {
      "cell_type": "code",
      "metadata": {
        "id": "QB5bOaNLBKSt",
        "colab_type": "code",
        "colab": {
          "base_uri": "https://localhost:8080/",
          "height": 34
        },
        "outputId": "74f04677-6bb5-403f-9bbc-17b46f992420"
      },
      "source": [
        "%%R\n",
        "dim(classificate)"
      ],
      "execution_count": 10,
      "outputs": [
        {
          "output_type": "display_data",
          "data": {
            "text/plain": [
              "[1] 36  5\n"
            ]
          },
          "metadata": {
            "tags": []
          }
        }
      ]
    },
    {
      "cell_type": "code",
      "metadata": {
        "id": "MKpSNvpFBOqA",
        "colab_type": "code",
        "colab": {}
      },
      "source": [
        "%%R\n",
        "prediction = knn(iris_train[,1:4], classificate[,1:4],iris_train[,5], k=3)"
      ],
      "execution_count": 0,
      "outputs": []
    },
    {
      "cell_type": "code",
      "metadata": {
        "id": "dSpAYhVGBeXw",
        "colab_type": "code",
        "colab": {
          "base_uri": "https://localhost:8080/",
          "height": 104
        },
        "outputId": "c10249b0-6a2e-4cc7-9885-4b9d702161d3"
      },
      "source": [
        "%%R\n",
        "confusion = table(classificate[,5], prediction)\n",
        "confusion"
      ],
      "execution_count": 13,
      "outputs": [
        {
          "output_type": "display_data",
          "data": {
            "text/plain": [
              "            prediction\n",
              "             setosa versicolor virginica\n",
              "  setosa         10          0         0\n",
              "  versicolor      0         13         1\n",
              "  virginica       0          0        12\n"
            ]
          },
          "metadata": {
            "tags": []
          }
        }
      ]
    },
    {
      "cell_type": "code",
      "metadata": {
        "id": "H7y8UE7_CRws",
        "colab_type": "code",
        "colab": {
          "base_uri": "https://localhost:8080/",
          "height": 34
        },
        "outputId": "200b5af1-ca1a-4bce-e882-e12fb9788262"
      },
      "source": [
        "%%R\n",
        "confusion[5]"
      ],
      "execution_count": 18,
      "outputs": [
        {
          "output_type": "display_data",
          "data": {
            "text/plain": [
              "[1] 13\n"
            ]
          },
          "metadata": {
            "tags": []
          }
        }
      ]
    },
    {
      "cell_type": "code",
      "metadata": {
        "id": "SnmT-p3FBmAR",
        "colab_type": "code",
        "colab": {
          "base_uri": "https://localhost:8080/",
          "height": 34
        },
        "outputId": "07a648ac-eed6-49ba-ed6c-02484c9b1f99"
      },
      "source": [
        "%%R\n",
        "score = (confusion[1]+confusion[5]+confusion[9])/sum(confusion)\n",
        "score"
      ],
      "execution_count": 20,
      "outputs": [
        {
          "output_type": "display_data",
          "data": {
            "text/plain": [
              "[1] 0.9722222\n"
            ]
          },
          "metadata": {
            "tags": []
          }
        }
      ]
    },
    {
      "cell_type": "markdown",
      "metadata": {
        "id": "COQ3NcjcCtpg",
        "colab_type": "text"
      },
      "source": [
        "97,22% of success rate.\n"
      ]
    }
  ]
}